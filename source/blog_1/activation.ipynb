{
 "cells": [
  {
   "cell_type": "code",
   "execution_count": 118,
   "metadata": {},
   "outputs": [],
   "source": [
    "#tensorflow/examples/tutorials/mnist/\n",
    "#from tensorflow.examples.tutorials.mnist import input_data\n",
    "#data = input_data.read_data_sets(\"./mnist_data\", one_hot=False)\n",
    "\n",
    "import numpy as np\n",
    "import tensorflow as tf\n",
    "import matplotlib.pyplot as plt"
   ]
  },
  {
   "cell_type": "code",
   "execution_count": 119,
   "metadata": {},
   "outputs": [],
   "source": [
    "def xor(x):\n",
    "    if x[0] == x[1]:\n",
    "        return 1\n",
    "    else:\n",
    "        return 0\n",
    "    \n",
    "def dirty(x):\n",
    "    noise1 = (np.random.random()*2 - 1)/20\n",
    "    noise2 = (np.random.random()*2 - 1)/20\n",
    "    noise = np.array([noise1, noise2])\n",
    "    return x + noise"
   ]
  },
  {
   "cell_type": "code",
   "execution_count": 120,
   "metadata": {},
   "outputs": [],
   "source": [
    "data = np.random.randint(0, 2, (1000,2))\n",
    "x = np.apply_along_axis(dirty, 1, data)\n",
    "y = np.array(list(map(lambda d: xor(d), data)))\n",
    "tmp = np.zeros((len(y), 2))\n",
    "tmp[np.arange(len(y)),y] = 1\n",
    "y = tmp"
   ]
  },
  {
   "cell_type": "code",
   "execution_count": 121,
   "metadata": {},
   "outputs": [],
   "source": [
    "input_x = tf.placeholder(tf.float32, [None, 2])\n",
    "input_y = tf.placeholder(tf.int64, [None, 2])\n",
    "\n",
    "w1 = tf.Variable(tf.truncated_normal([2, 300], stddev=0.1))\n",
    "b1 = tf.Variable(tf.constant(0.1, shape=[300]))\n",
    "z1 = tf.nn.xw_plus_b(input_x, w1, b1)\n",
    "active1 = tf.sigmoid(z1)\n",
    "\n",
    "w2 = tf.Variable(tf.truncated_normal([300, 2], stddev=0.1))\n",
    "b2 = tf.Variable(tf.constant(0.1, shape=[2]))\n",
    "z2 = tf.nn.xw_plus_b(active1, w2, b2)\n",
    "\n",
    "# for test purpose\n",
    "no_active = tf.nn.xw_plus_b(z1, w2, b2)\n",
    "sigmoid_active = tf.nn.xw_plus_b(tf.sigmoid(z1), w2, b2)\n",
    "relu_active = tf.nn.xw_plus_b(tf.nn.relu(z1), w2, b2)\n",
    "\n",
    "predictions = tf.argmax(z2, axis=1)\n",
    "loss = tf.nn.softmax_cross_entropy_with_logits_v2(labels=input_y, logits=z2)\n",
    "mse = tf.reduce_mean(loss)\n",
    "train = tf.train.GradientDescentOptimizer(0.1).minimize(mse)"
   ]
  },
  {
   "cell_type": "code",
   "execution_count": 122,
   "metadata": {},
   "outputs": [],
   "source": [
    "bchsize = 256\n",
    "def generator(train_x, train_y, bchsize=bchsize):\n",
    "    start = 0\n",
    "    while True:\n",
    "        if start > len(train_x):\n",
    "            start %= bchsize\n",
    "        batch_x = train_x[start:start+bchsize]\n",
    "        batch_y = train_y[start:start+bchsize]\n",
    "        start += bchsize\n",
    "        yield batch_x, batch_y"
   ]
  },
  {
   "cell_type": "code",
   "execution_count": 123,
   "metadata": {},
   "outputs": [],
   "source": [
    "# shuffle dataset\n",
    "random_idx = np.random.choice(len(x), (len(x)), replace=False)\n",
    "x, y = x[random_idx], y[random_idx]\n",
    "\n",
    "# split train/test dataset\n",
    "n_train = int(len(x)*0.8)\n",
    "train_x, train_y = x[:n_train], y[:n_train]\n",
    "valid_x, valid_y = x[n_train:], y[n_train:]\n",
    "valid_y = np.argmax(valid_y, axis=1)\n",
    "\n",
    "# make generator\n",
    "gen = generator(train_x, train_y)"
   ]
  },
  {
   "cell_type": "code",
   "execution_count": 132,
   "metadata": {},
   "outputs": [
    {
     "name": "stdout",
     "output_type": "stream",
     "text": [
      "0th iteration finished: 0.6880, validation_accracy: 0.5000\n",
      "1000th iteration finished: 2.1668, validation_accracy: 0.5000\n",
      "2000th iteration finished: 1.4424, validation_accracy: 0.5000\n",
      "3000th iteration finished: 1.1521, validation_accracy: 0.5000\n",
      "4000th iteration finished: 1.0195, validation_accracy: 0.5000\n",
      "5000th iteration finished: 0.8445, validation_accracy: 0.5000\n",
      "6000th iteration finished: 0.2315, validation_accracy: 1.0000\n",
      "7000th iteration finished: 0.0662, validation_accracy: 1.0000\n",
      "8000th iteration finished: 0.0326, validation_accracy: 1.0000\n",
      "9000th iteration finished: 0.0203, validation_accracy: 1.0000\n",
      "(1000, 2) (1000, 2) (1000, 2) (1000,)\n"
     ]
    }
   ],
   "source": [
    "steps = 10000\n",
    "\n",
    "# global variable initialization\n",
    "init = tf.global_variables_initializer()\n",
    "\n",
    "train_ops = [loss, mse, train]\n",
    "transform_ops = [no_active, sigmoid_active, relu_active, predictions]\n",
    "with tf.Session() as sess:\n",
    "    # initialization\n",
    "    sess.run(init)\n",
    "    \n",
    "    # do training\n",
    "    for i in range(steps):\n",
    "        bx, by = next(gen)\n",
    "        feed_dict = {\n",
    "            input_x: bx,\n",
    "            input_y: by\n",
    "        }\n",
    "        train_loss, train_mse, _ = sess.run(train_ops, feed_dict=feed_dict)\n",
    "        if i % 1000 == 0:\n",
    "            pred = sess.run(predictions, feed_dict={input_x: valid_x})\n",
    "            acc = (valid_y == pred).astype(int).mean()\n",
    "            print('%sth iteration finished: %.4f, validation_accracy: %.4f' % (i, train_mse, acc))\n",
    "            \n",
    "    # transform data\n",
    "    feed_dict = {input_x: x}\n",
    "    no_active_x, sigmoid_active_x, relu_active_x, pred_x = sess.run(transform_ops, feed_dict=feed_dict)\n",
    "    \n",
    "    print(no_active_x.shape, sigmoid_active_x.shape, relu_active_x.shape, pred_x.shape)"
   ]
  },
  {
   "cell_type": "code",
   "execution_count": 133,
   "metadata": {},
   "outputs": [
    {
     "data": {
      "text/plain": [
       "1.0"
      ]
     },
     "execution_count": 133,
     "metadata": {},
     "output_type": "execute_result"
    }
   ],
   "source": [
    "y_ = np.argmax(y, axis=1)\n",
    "(y_ == pred_x).mean()"
   ]
  },
  {
   "cell_type": "code",
   "execution_count": 134,
   "metadata": {},
   "outputs": [
    {
     "ename": "NameError",
     "evalue": "name 'transformed_x' is not defined",
     "output_type": "error",
     "traceback": [
      "\u001b[0;31m---------------------------------------------------------------------------\u001b[0m",
      "\u001b[0;31mNameError\u001b[0m                                 Traceback (most recent call last)",
      "\u001b[0;32m<ipython-input-134-8ca905e7f59d>\u001b[0m in \u001b[0;36m<module>\u001b[0;34m()\u001b[0m\n\u001b[1;32m      3\u001b[0m \u001b[0mzero_idx\u001b[0m \u001b[0;34m=\u001b[0m \u001b[0mnp\u001b[0m\u001b[0;34m.\u001b[0m\u001b[0margmax\u001b[0m\u001b[0;34m(\u001b[0m\u001b[0my\u001b[0m\u001b[0;34m,\u001b[0m \u001b[0maxis\u001b[0m\u001b[0;34m=\u001b[0m\u001b[0;36m1\u001b[0m\u001b[0;34m)\u001b[0m \u001b[0;34m==\u001b[0m \u001b[0;36m0\u001b[0m\u001b[0;34m\u001b[0m\u001b[0m\n\u001b[1;32m      4\u001b[0m \u001b[0mone_idx\u001b[0m \u001b[0;34m=\u001b[0m \u001b[0mnp\u001b[0m\u001b[0;34m.\u001b[0m\u001b[0margmax\u001b[0m\u001b[0;34m(\u001b[0m\u001b[0my\u001b[0m\u001b[0;34m,\u001b[0m \u001b[0maxis\u001b[0m\u001b[0;34m=\u001b[0m\u001b[0;36m1\u001b[0m\u001b[0;34m)\u001b[0m \u001b[0;34m==\u001b[0m \u001b[0;36m1\u001b[0m\u001b[0;34m\u001b[0m\u001b[0m\n\u001b[0;32m----> 5\u001b[0;31m \u001b[0mzero_x\u001b[0m \u001b[0;34m=\u001b[0m \u001b[0mtransformed_x\u001b[0m\u001b[0;34m[\u001b[0m\u001b[0mzero_idx\u001b[0m\u001b[0;34m]\u001b[0m\u001b[0;34m\u001b[0m\u001b[0m\n\u001b[0m\u001b[1;32m      6\u001b[0m \u001b[0mone_x\u001b[0m \u001b[0;34m=\u001b[0m \u001b[0mtransformed_x\u001b[0m\u001b[0;34m[\u001b[0m\u001b[0mone_idx\u001b[0m\u001b[0;34m]\u001b[0m\u001b[0;34m\u001b[0m\u001b[0m\n\u001b[1;32m      7\u001b[0m \u001b[0;34m\u001b[0m\u001b[0m\n",
      "\u001b[0;31mNameError\u001b[0m: name 'transformed_x' is not defined"
     ]
    }
   ],
   "source": [
    "import matplotlib.pyplot as plt\n",
    "\n",
    "zero_idx = np.argmax(y, axis=1) == 0\n",
    "one_idx = np.argmax(y, axis=1) == 1\n",
    "zero_x = transformed_x[zero_idx]\n",
    "one_x = transformed_x[one_idx]\n",
    "\n",
    "# draw plot\n",
    "plt.scatter(zero_x[:,0], zero_x[:,1], s=1, c='r')\n",
    "plt.scatter(one_x[:,0], one_x[:,1], s=1, c='b')"
   ]
  },
  {
   "cell_type": "code",
   "execution_count": 135,
   "metadata": {},
   "outputs": [
    {
     "data": {
      "image/png": "[encoded data removed]",
      "text/plain": [
       "<matplotlib.figure.Figure at 0x7efccfb666a0>"
      ]
     },
     "metadata": {},
     "output_type": "display_data"
    }
   ],
   "source": [
    "zero_idx = np.argmax(y, axis=1) == 0\n",
    "one_idx = np.argmax(y, axis=1) == 1\n",
    "\n",
    "plt.figure(figsize=(15, 5))\n",
    "plt.subplot(141)\n",
    "zero_x = x[zero_idx]\n",
    "one_x = x[one_idx]\n",
    "plt.scatter(zero_x[:,0], zero_x[:,1], s=1, c='r', label='zero')\n",
    "plt.scatter(one_x[:,0], one_x[:,1], s=1, c='b', label='one')\n",
    "plt.legend()\n",
    "plt.title('Original Data')\n",
    "\n",
    "plt.subplot(142)\n",
    "no_active_zero_x = no_active_x[zero_idx]\n",
    "no_active_one_x = no_active_x[one_idx]\n",
    "plt.scatter(no_active_zero_x[:,0], no_active_zero_x[:,1], s=1, c='r', label='zero')\n",
    "plt.scatter(no_active_one_x[:,0], no_active_one_x[:,1], s=1, c='b', label='one')\n",
    "plt.legend()\n",
    "plt.title('No Activation')\n",
    "\n",
    "plt.subplot(143)\n",
    "sigmoid_active_zero_x = sigmoid_active_x[zero_idx]\n",
    "sigmoid_active_one_x = sigmoid_active_x[one_idx]\n",
    "plt.scatter(sigmoid_active_zero_x[:,0], sigmoid_active_zero_x[:,1], s=1, c='r', label='zero')\n",
    "plt.scatter(sigmoid_active_one_x[:,0], sigmoid_active_one_x[:,1], s=1, c='b', label='one')\n",
    "plt.legend()\n",
    "plt.title('Sigmoid Activation')\n",
    "\n",
    "plt.subplot(144)\n",
    "relu_active_zero_x = relu_active_x[zero_idx]\n",
    "relu_active_one_x = relu_active_x[one_idx]\n",
    "plt.scatter(relu_active_zero_x[:,0], relu_active_zero_x[:,1], s=1, c='r', label='zero')\n",
    "plt.scatter(relu_active_one_x[:,0], relu_active_one_x[:,1], s=1, c='b', label='one')\n",
    "plt.title('ReLu Activeation')\n",
    "plt.legend()\n",
    "\n",
    "# save png\n",
    "plt.savefig('active_plot.png')"
   ]
  },
  {
   "cell_type": "code",
   "execution_count": null,
   "metadata": {},
   "outputs": [],
   "source": []
  },
  {
   "cell_type": "code",
   "execution_count": null,
   "metadata": {},
   "outputs": [],
   "source": []
  },
  {
   "cell_type": "markdown",
   "metadata": {},
   "source": [
    "# draw sigmoid, softmax, tahn"
   ]
  },
  {
   "cell_type": "code",
   "execution_count": 109,
   "metadata": {},
   "outputs": [],
   "source": [
    "def sigmoid(x):\n",
    "    return 1/(1+np.e**-x)\n",
    "\n",
    "def tanh(x):\n",
    "    return (np.exp(2*x)-1)/(np.exp(2*x)+1)\n",
    "\n",
    "def relu(x):\n",
    "    return max(x, 0)"
   ]
  },
  {
   "cell_type": "code",
   "execution_count": 110,
   "metadata": {},
   "outputs": [],
   "source": [
    "x = np.arange(-200, 200)/20\n",
    "sigmoid_y = list(map(sigmoid, x))\n",
    "tanh_y = list(map(tanh, x))\n",
    "relu_y = list(map(relu, x))"
   ]
  },
  {
   "cell_type": "code",
   "execution_count": 115,
   "metadata": {},
   "outputs": [
    {
     "data": {
      "image/png": "[encoded data removed]",
      "text/plain": [
       "<matplotlib.figure.Figure at 0x7efccfde9438>"
      ]
     },
     "metadata": {},
     "output_type": "display_data"
    }
   ],
   "source": [
    "plt.scatter(x, sigmoid_y, s=1, label='sigmoid')\n",
    "plt.scatter(x, tanh_y, s=1, label='tanh')\n",
    "plt.legend()\n",
    "plt.title('sigmoid/tanh function')\n",
    "plt.savefig('sigtan.png')"
   ]
  },
  {
   "cell_type": "code",
   "execution_count": 116,
   "metadata": {},
   "outputs": [
    {
     "data": {
      "image/png": "[encoded data removed]",
      "text/plain": [
       "<matplotlib.figure.Figure at 0x7efccfd826d8>"
      ]
     },
     "metadata": {},
     "output_type": "display_data"
    }
   ],
   "source": [
    "plt.scatter(x, relu_y, s=1, label='relu')\n",
    "plt.legend()\n",
    "plt.title('relu function')\n",
    "plt.savefig('relu.png')"
   ]
  },
  {
   "cell_type": "code",
   "execution_count": null,
   "metadata": {},
   "outputs": [],
   "source": []
  }
 ],
 "metadata": {
  "kernelspec": {
   "display_name": "Python 3",
   "language": "python",
   "name": "python3"
  },
  "language_info": {
   "codemirror_mode": {
    "name": "ipython",
    "version": 3
   },
   "file_extension": ".py",
   "mimetype": "text/x-python",
   "name": "python",
   "nbconvert_exporter": "python",
   "pygments_lexer": "ipython3",
   "version": "3.5.2"
  }
 },
 "nbformat": 4,
 "nbformat_minor": 2
}
